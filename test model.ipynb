{
 "cells": [
  {
   "cell_type": "markdown",
   "id": "20244ce5",
   "metadata": {},
   "source": [
    "## Using the model "
   ]
  },
  {
   "cell_type": "code",
   "execution_count": 2,
   "id": "74a246a5",
   "metadata": {},
   "outputs": [],
   "source": [
    "import numpy as np\n",
    "from joblib import dump, load\n",
    "model =load('realstate.joblib') "
   ]
  },
  {
   "cell_type": "code",
   "execution_count": 7,
   "id": "3227e02c",
   "metadata": {},
   "outputs": [
    {
     "data": {
      "text/plain": [
       "array([21.582])"
      ]
     },
     "execution_count": 7,
     "metadata": {},
     "output_type": "execute_result"
    }
   ],
   "source": [
    "features=np.array([[-0.43942006,  3.12628155, -1.52165014, -0.27288841, -1.42262747,\n",
    "       -5.58141041, -1.31238772,  2.61111401, -1.0016859 , -0.5778192 ,\n",
    "       -0.97491834,  0.41164221, -0.86091034]])\n",
    "model.predict(features)"
   ]
  },
  {
   "cell_type": "code",
   "execution_count": null,
   "id": "e69c1f6b",
   "metadata": {},
   "outputs": [],
   "source": []
  }
 ],
 "metadata": {
  "kernelspec": {
   "display_name": "Python 3 (ipykernel)",
   "language": "python",
   "name": "python3"
  },
  "language_info": {
   "codemirror_mode": {
    "name": "ipython",
    "version": 3
   },
   "file_extension": ".py",
   "mimetype": "text/x-python",
   "name": "python",
   "nbconvert_exporter": "python",
   "pygments_lexer": "ipython3",
   "version": "3.9.13"
  }
 },
 "nbformat": 4,
 "nbformat_minor": 5
}
